{
  "cells": [
    {
      "cell_type": "markdown",
      "metadata": {
        "id": "4zp_0_xZvw4K"
      },
      "source": [
        "# <center> ***Proyecto Integrador*** </center>\n",
        "## <center> ***Avance 4*** </center>\n",
        "### Profesores: Dra. Grettel Barceló, Dr. Luis Enrique Falcón.\n",
        "### Tutor: Dr Carlos Alberto Villaseñor Padilla\n",
        "### Alumnos:\n",
        "\n",
        "* Aurelio Antonio Lozano Rábago      A01081266\n",
        "\n",
        "\n",
        "#### <p style='text-align: right;'> 30 de Mayo del 2024 </p>"
      ]
    },
    {
      "cell_type": "markdown",
      "metadata": {
        "id": "qMJem6ZuwknJ"
      },
      "source": [
        "Importar bibliotecas\n",
        "\n"
      ]
    },
    {
      "cell_type": "code",
      "execution_count": 10,
      "metadata": {
        "id": "mtXnehErvsnR"
      },
      "outputs": [],
      "source": [
        "import pandas as pd\n",
        "import numpy as np\n",
        "import os\n",
        "import keras\n",
        "import matplotlib.pyplot as plt\n",
        "from tensorflow.keras.layers import Dense,GlobalAveragePooling2D\n",
        "from tensorflow.keras.applications import MobileNet, InceptionV3, VGG16, ResNet50, DenseNet121,EfficientNetB0\n",
        "from tensorflow.keras.preprocessing import image\n",
        "from tensorflow.keras.applications.mobilenet import preprocess_input\n",
        "from tensorflow.keras.preprocessing.image import ImageDataGenerator\n",
        "from tensorflow.keras.models import Model\n",
        "from tensorflow.keras.optimizers import Adam\n",
        "from tensorflow.keras.layers import Dropout\n",
        "import torch\n",
        "import tensorflow as tf"
      ]
    },
    {
      "cell_type": "code",
      "execution_count": 11,
      "metadata": {},
      "outputs": [
        {
          "name": "stdout",
          "output_type": "stream",
          "text": [
            "cuda\n"
          ]
        }
      ],
      "source": [
        "device = torch.device(\"cuda\" if torch.cuda.is_available() else \"cpu\")\n",
        "print(device)"
      ]
    },
    {
      "cell_type": "markdown",
      "metadata": {
        "id": "shvPrpcuw43_"
      },
      "source": [
        "Importar MobileNet base pero descartaremos las últimas capa"
      ]
    },
    {
      "cell_type": "code",
      "execution_count": 12,
      "metadata": {
        "colab": {
          "base_uri": "https://localhost:8080/"
        },
        "id": "4Q6iGl62xPNJ",
        "outputId": "e6f00457-1f55-43d9-e2b4-c5eaafa2b75e"
      },
      "outputs": [
        {
          "name": "stderr",
          "output_type": "stream",
          "text": [
            "C:\\Users\\44942\\AppData\\Local\\Temp\\ipykernel_16596\\3195174664.py:3: UserWarning: `input_shape` is undefined or non-square, or `rows` is not in [128, 160, 192, 224]. Weights for input shape (224, 224) will be loaded as the default.\n",
            "  MobileNet(weights='imagenet', include_top=False),\n"
          ]
        }
      ],
      "source": [
        "# Lista de modelos\n",
        "base_models = [\n",
        "    MobileNet(weights='imagenet', include_top=False),\n",
        "    InceptionV3(weights='imagenet', include_top=False),\n",
        "    VGG16(weights='imagenet', include_top=False),\n",
        "    ResNet50(weights='imagenet', include_top=False),\n",
        "    DenseNet121(weights='imagenet', include_top=False),\n",
        "    EfficientNetB0(weights='imagenet', include_top=False)\n",
        "]\n"
      ]
    },
    {
      "cell_type": "markdown",
      "metadata": {
        "id": "aCeLxtlEyCJV"
      },
      "source": [
        "Crear nueva Red Neuronal y pegar redes neuronales"
      ]
    },
    {
      "cell_type": "code",
      "execution_count": 13,
      "metadata": {
        "id": "AYQX0UAbyHzA"
      },
      "outputs": [],
      "source": [
        "def add_custom_layers(base_model):\n",
        "    x = base_model.output\n",
        "    x = GlobalAveragePooling2D()(x)\n",
        "    x = Dense(256, activation='relu')(x)\n",
        "    x = Dropout(0.5)(x)\n",
        "    x = Dense(64, activation='relu')(x)\n",
        "    preds = Dense(13, activation='softmax')(x)\n",
        "    model = Model(inputs=base_model.input, outputs=preds)\n",
        "    return model"
      ]
    },
    {
      "cell_type": "markdown",
      "metadata": {
        "id": "4-39u5Pp1Lkj"
      },
      "source": [
        "Cargar datos nuevos\n",
        "\n",
        "- Carge el archivo 'train.zip' en la pestaña archivos en el lateral izquierdo\n",
        "- Corra la siguiente linea para descomprimir los archivos"
      ]
    },
    {
      "cell_type": "markdown",
      "metadata": {
        "id": "qKTX6gWt14cy"
      },
      "source": [
        "Crear generador desde carpeta"
      ]
    },
    {
      "cell_type": "code",
      "execution_count": 14,
      "metadata": {
        "colab": {
          "base_uri": "https://localhost:8080/"
        },
        "id": "p7oy8_sZ2Mc-",
        "outputId": "a98ee513-76ed-4101-efb5-972b368dfc12"
      },
      "outputs": [
        {
          "name": "stdout",
          "output_type": "stream",
          "text": [
            "Found 978 images belonging to 13 classes.\n",
            "Found 324 images belonging to 13 classes.\n"
          ]
        }
      ],
      "source": [
        "train_datagen = ImageDataGenerator(preprocessing_function=tf.keras.applications.mobilenet.preprocess_input)\n",
        "val_datagen = ImageDataGenerator(preprocessing_function=tf.keras.applications.mobilenet.preprocess_input)\n",
        "\n",
        "train_generator = train_datagen.flow_from_directory('DataSet/organized_data/train/',\n",
        "                                                    target_size=(224, 224),\n",
        "                                                    color_mode='rgb',\n",
        "                                                    batch_size=50,\n",
        "                                                    class_mode='categorical',\n",
        "                                                    shuffle=True)\n",
        "\n",
        "val_generator = val_datagen.flow_from_directory('DataSet/organized_data/val/',\n",
        "                                                target_size=(224, 224),\n",
        "                                                color_mode='rgb',\n",
        "                                                batch_size=25,\n",
        "                                                class_mode='categorical',\n",
        "                                                shuffle=True)"
      ]
    },
    {
      "cell_type": "code",
      "execution_count": 16,
      "metadata": {},
      "outputs": [
        {
          "name": "stdout",
          "output_type": "stream",
          "text": [
            "Número de imágenes de entrenamiento: 978\n",
            "Número de imágenes de validación: 324\n"
          ]
        }
      ],
      "source": [
        "print(f'Número de imágenes de entrenamiento: {train_generator.samples}')\n",
        "print(f'Número de imágenes de validación: {val_generator.samples}')"
      ]
    },
    {
      "cell_type": "markdown",
      "metadata": {
        "id": "F9zw5rV33psh"
      },
      "source": [
        "Compilar Modelo y entrenar desde carpeta"
      ]
    },
    {
      "cell_type": "code",
      "execution_count": 15,
      "metadata": {
        "colab": {
          "base_uri": "https://localhost:8080/"
        },
        "id": "efD515JO3zlL",
        "outputId": "2c36bb5c-9747-4e7f-f4fe-9abd56539e7e"
      },
      "outputs": [
        {
          "name": "stdout",
          "output_type": "stream",
          "text": [
            "Modelo:  1\n",
            "Epoch 1/20\n"
          ]
        },
        {
          "name": "stderr",
          "output_type": "stream",
          "text": [
            "c:\\Users\\44942\\.conda\\envs\\new_gpu_env\\Lib\\site-packages\\keras\\src\\trainers\\data_adapters\\py_dataset_adapter.py:121: UserWarning: Your `PyDataset` class should call `super().__init__(**kwargs)` in its constructor. `**kwargs` can include `workers`, `use_multiprocessing`, `max_queue_size`. Do not pass these arguments to `fit()`, as they will be ignored.\n",
            "  self._warn_if_super_not_called()\n"
          ]
        },
        {
          "name": "stdout",
          "output_type": "stream",
          "text": [
            "\u001b[1m19/19\u001b[0m \u001b[32m━━━━━━━━━━━━━━━━━━━━\u001b[0m\u001b[37m\u001b[0m \u001b[1m12s\u001b[0m 506ms/step - accuracy: 0.2712 - loss: 2.1630 - val_accuracy: 0.4700 - val_loss: 1.3721\n",
            "Epoch 2/20\n",
            "\u001b[1m 1/19\u001b[0m \u001b[32m━\u001b[0m\u001b[37m━━━━━━━━━━━━━━━━━━━\u001b[0m \u001b[1m6s\u001b[0m 363ms/step - accuracy: 0.2600 - loss: 1.7644"
          ]
        },
        {
          "name": "stderr",
          "output_type": "stream",
          "text": [
            "c:\\Users\\44942\\.conda\\envs\\new_gpu_env\\Lib\\contextlib.py:158: UserWarning: Your input ran out of data; interrupting training. Make sure that your dataset or generator can generate at least `steps_per_epoch * epochs` batches. You may need to use the `.repeat()` function when building your dataset.\n",
            "  self.gen.throw(typ, value, traceback)\n"
          ]
        },
        {
          "name": "stdout",
          "output_type": "stream",
          "text": [
            "\u001b[1m19/19\u001b[0m \u001b[32m━━━━━━━━━━━━━━━━━━━━\u001b[0m\u001b[37m\u001b[0m \u001b[1m1s\u001b[0m 13ms/step - accuracy: 0.2600 - loss: 1.7644 - val_accuracy: 0.4167 - val_loss: 1.3766\n",
            "Epoch 3/20\n",
            "\u001b[1m19/19\u001b[0m \u001b[32m━━━━━━━━━━━━━━━━━━━━\u001b[0m\u001b[37m\u001b[0m \u001b[1m10s\u001b[0m 492ms/step - accuracy: 0.3815 - loss: 1.5110 - val_accuracy: 0.4067 - val_loss: 1.3639\n",
            "Epoch 4/20\n",
            "\u001b[1m19/19\u001b[0m \u001b[32m━━━━━━━━━━━━━━━━━━━━\u001b[0m\u001b[37m\u001b[0m \u001b[1m1s\u001b[0m 10ms/step - accuracy: 0.4800 - loss: 1.3899 - val_accuracy: 0.2083 - val_loss: 1.4119\n",
            "Epoch 5/20\n",
            "\u001b[1m19/19\u001b[0m \u001b[32m━━━━━━━━━━━━━━━━━━━━\u001b[0m\u001b[37m\u001b[0m \u001b[1m10s\u001b[0m 516ms/step - accuracy: 0.3747 - loss: 1.4741 - val_accuracy: 0.4767 - val_loss: 1.3158\n",
            "Epoch 6/20\n",
            "\u001b[1m19/19\u001b[0m \u001b[32m━━━━━━━━━━━━━━━━━━━━\u001b[0m\u001b[37m\u001b[0m \u001b[1m1s\u001b[0m 10ms/step - accuracy: 0.5000 - loss: 1.4920 - val_accuracy: 0.4583 - val_loss: 1.3119\n",
            "Epoch 7/20\n",
            "\u001b[1m19/19\u001b[0m \u001b[32m━━━━━━━━━━━━━━━━━━━━\u001b[0m\u001b[37m\u001b[0m \u001b[1m10s\u001b[0m 522ms/step - accuracy: 0.4291 - loss: 1.3431 - val_accuracy: 0.4933 - val_loss: 1.2695\n",
            "Epoch 8/20\n",
            "\u001b[1m19/19\u001b[0m \u001b[32m━━━━━━━━━━━━━━━━━━━━\u001b[0m\u001b[37m\u001b[0m \u001b[1m1s\u001b[0m 11ms/step - accuracy: 0.4000 - loss: 1.4929 - val_accuracy: 0.5833 - val_loss: 1.1968\n",
            "Epoch 9/20\n",
            "\u001b[1m19/19\u001b[0m \u001b[32m━━━━━━━━━━━━━━━━━━━━\u001b[0m\u001b[37m\u001b[0m \u001b[1m11s\u001b[0m 544ms/step - accuracy: 0.4909 - loss: 1.2859 - val_accuracy: 0.4600 - val_loss: 1.2588\n",
            "Epoch 10/20\n",
            "\u001b[1m19/19\u001b[0m \u001b[32m━━━━━━━━━━━━━━━━━━━━\u001b[0m\u001b[37m\u001b[0m \u001b[1m1s\u001b[0m 11ms/step - accuracy: 0.4600 - loss: 1.2540 - val_accuracy: 0.4583 - val_loss: 1.3254\n",
            "Epoch 11/20\n",
            "\u001b[1m19/19\u001b[0m \u001b[32m━━━━━━━━━━━━━━━━━━━━\u001b[0m\u001b[37m\u001b[0m \u001b[1m11s\u001b[0m 557ms/step - accuracy: 0.4587 - loss: 1.2229 - val_accuracy: 0.4367 - val_loss: 1.2535\n",
            "Epoch 12/20\n",
            "\u001b[1m19/19\u001b[0m \u001b[32m━━━━━━━━━━━━━━━━━━━━\u001b[0m\u001b[37m\u001b[0m \u001b[1m0s\u001b[0m 13ms/step - accuracy: 0.5357 - loss: 1.1610 - val_accuracy: 0.4583 - val_loss: 1.1232\n",
            "Epoch 13/20\n",
            "\u001b[1m19/19\u001b[0m \u001b[32m━━━━━━━━━━━━━━━━━━━━\u001b[0m\u001b[37m\u001b[0m \u001b[1m11s\u001b[0m 536ms/step - accuracy: 0.4889 - loss: 1.2079 - val_accuracy: 0.4800 - val_loss: 1.1998\n",
            "Epoch 14/20\n",
            "\u001b[1m19/19\u001b[0m \u001b[32m━━━━━━━━━━━━━━━━━━━━\u001b[0m\u001b[37m\u001b[0m \u001b[1m1s\u001b[0m 12ms/step - accuracy: 0.4400 - loss: 1.1962 - val_accuracy: 0.5000 - val_loss: 1.2684\n",
            "Epoch 15/20\n",
            "\u001b[1m19/19\u001b[0m \u001b[32m━━━━━━━━━━━━━━━━━━━━\u001b[0m\u001b[37m\u001b[0m \u001b[1m10s\u001b[0m 501ms/step - accuracy: 0.5090 - loss: 1.1498 - val_accuracy: 0.5133 - val_loss: 1.1941\n",
            "Epoch 16/20\n",
            "\u001b[1m19/19\u001b[0m \u001b[32m━━━━━━━━━━━━━━━━━━━━\u001b[0m\u001b[37m\u001b[0m \u001b[1m1s\u001b[0m 12ms/step - accuracy: 0.5600 - loss: 1.1206 - val_accuracy: 0.5000 - val_loss: 1.0799\n",
            "Epoch 17/20\n",
            "\u001b[1m19/19\u001b[0m \u001b[32m━━━━━━━━━━━━━━━━━━━━\u001b[0m\u001b[37m\u001b[0m \u001b[1m10s\u001b[0m 488ms/step - accuracy: 0.5218 - loss: 1.1540 - val_accuracy: 0.5033 - val_loss: 1.1736\n",
            "Epoch 18/20\n",
            "\u001b[1m19/19\u001b[0m \u001b[32m━━━━━━━━━━━━━━━━━━━━\u001b[0m\u001b[37m\u001b[0m \u001b[1m1s\u001b[0m 12ms/step - accuracy: 0.5200 - loss: 1.1089 - val_accuracy: 0.6667 - val_loss: 1.2525\n",
            "Epoch 19/20\n",
            "\u001b[1m19/19\u001b[0m \u001b[32m━━━━━━━━━━━━━━━━━━━━\u001b[0m\u001b[37m\u001b[0m \u001b[1m10s\u001b[0m 532ms/step - accuracy: 0.5797 - loss: 1.0456 - val_accuracy: 0.4933 - val_loss: 1.1837\n",
            "Epoch 20/20\n",
            "\u001b[1m19/19\u001b[0m \u001b[32m━━━━━━━━━━━━━━━━━━━━\u001b[0m\u001b[37m\u001b[0m \u001b[1m1s\u001b[0m 13ms/step - accuracy: 0.6000 - loss: 0.9860 - val_accuracy: 0.4167 - val_loss: 1.2256\n",
            "Modelo:  2\n",
            "Epoch 1/20\n",
            "\u001b[1m19/19\u001b[0m \u001b[32m━━━━━━━━━━━━━━━━━━━━\u001b[0m\u001b[37m\u001b[0m \u001b[1m21s\u001b[0m 893ms/step - accuracy: 0.3088 - loss: 2.2184 - val_accuracy: 0.3533 - val_loss: 1.4642\n",
            "Epoch 2/20\n",
            "\u001b[1m19/19\u001b[0m \u001b[32m━━━━━━━━━━━━━━━━━━━━\u001b[0m\u001b[37m\u001b[0m \u001b[1m1s\u001b[0m 27ms/step - accuracy: 0.3400 - loss: 2.0479 - val_accuracy: 0.2500 - val_loss: 1.6477\n",
            "Epoch 3/20\n",
            "\u001b[1m19/19\u001b[0m \u001b[32m━━━━━━━━━━━━━━━━━━━━\u001b[0m\u001b[37m\u001b[0m \u001b[1m17s\u001b[0m 928ms/step - accuracy: 0.3275 - loss: 1.6797 - val_accuracy: 0.4800 - val_loss: 1.3541\n",
            "Epoch 4/20\n",
            "\u001b[1m19/19\u001b[0m \u001b[32m━━━━━━━━━━━━━━━━━━━━\u001b[0m\u001b[37m\u001b[0m \u001b[1m1s\u001b[0m 20ms/step - accuracy: 0.3200 - loss: 1.7508 - val_accuracy: 0.3333 - val_loss: 1.5480\n",
            "Epoch 5/20\n",
            "\u001b[1m19/19\u001b[0m \u001b[32m━━━━━━━━━━━━━━━━━━━━\u001b[0m\u001b[37m\u001b[0m \u001b[1m17s\u001b[0m 860ms/step - accuracy: 0.4155 - loss: 1.5608 - val_accuracy: 0.4667 - val_loss: 1.3550\n",
            "Epoch 6/20\n",
            "\u001b[1m19/19\u001b[0m \u001b[32m━━━━━━━━━━━━━━━━━━━━\u001b[0m\u001b[37m\u001b[0m \u001b[1m1s\u001b[0m 20ms/step - accuracy: 0.4200 - loss: 1.4346 - val_accuracy: 0.5000 - val_loss: 1.4120\n",
            "Epoch 7/20\n",
            "\u001b[1m19/19\u001b[0m \u001b[32m━━━━━━━━━━━━━━━━━━━━\u001b[0m\u001b[37m\u001b[0m \u001b[1m17s\u001b[0m 878ms/step - accuracy: 0.3761 - loss: 1.4938 - val_accuracy: 0.4267 - val_loss: 1.3917\n",
            "Epoch 8/20\n",
            "\u001b[1m19/19\u001b[0m \u001b[32m━━━━━━━━━━━━━━━━━━━━\u001b[0m\u001b[37m\u001b[0m \u001b[1m1s\u001b[0m 19ms/step - accuracy: 0.4600 - loss: 1.3735 - val_accuracy: 0.2500 - val_loss: 1.3177\n",
            "Epoch 9/20\n",
            "\u001b[1m19/19\u001b[0m \u001b[32m━━━━━━━━━━━━━━━━━━━━\u001b[0m\u001b[37m\u001b[0m \u001b[1m17s\u001b[0m 874ms/step - accuracy: 0.3733 - loss: 1.4454 - val_accuracy: 0.4800 - val_loss: 1.3166\n",
            "Epoch 10/20\n",
            "\u001b[1m19/19\u001b[0m \u001b[32m━━━━━━━━━━━━━━━━━━━━\u001b[0m\u001b[37m\u001b[0m \u001b[1m1s\u001b[0m 21ms/step - accuracy: 0.4400 - loss: 1.6867 - val_accuracy: 0.3750 - val_loss: 1.3394\n",
            "Epoch 11/20\n",
            "\u001b[1m19/19\u001b[0m \u001b[32m━━━━━━━━━━━━━━━━━━━━\u001b[0m\u001b[37m\u001b[0m \u001b[1m16s\u001b[0m 857ms/step - accuracy: 0.4225 - loss: 1.4050 - val_accuracy: 0.4767 - val_loss: 1.2977\n",
            "Epoch 12/20\n",
            "\u001b[1m19/19\u001b[0m \u001b[32m━━━━━━━━━━━━━━━━━━━━\u001b[0m\u001b[37m\u001b[0m \u001b[1m1s\u001b[0m 21ms/step - accuracy: 0.3400 - loss: 1.4481 - val_accuracy: 0.2917 - val_loss: 1.6233\n",
            "Epoch 13/20\n",
            "\u001b[1m19/19\u001b[0m \u001b[32m━━━━━━━━━━━━━━━━━━━━\u001b[0m\u001b[37m\u001b[0m \u001b[1m17s\u001b[0m 878ms/step - accuracy: 0.4040 - loss: 1.4049 - val_accuracy: 0.4333 - val_loss: 1.3015\n",
            "Epoch 14/20\n",
            "\u001b[1m19/19\u001b[0m \u001b[32m━━━━━━━━━━━━━━━━━━━━\u001b[0m\u001b[37m\u001b[0m \u001b[1m1s\u001b[0m 20ms/step - accuracy: 0.5400 - loss: 1.2388 - val_accuracy: 0.3750 - val_loss: 1.4281\n",
            "Epoch 15/20\n",
            "\u001b[1m19/19\u001b[0m \u001b[32m━━━━━━━━━━━━━━━━━━━━\u001b[0m\u001b[37m\u001b[0m \u001b[1m16s\u001b[0m 873ms/step - accuracy: 0.4393 - loss: 1.3271 - val_accuracy: 0.4600 - val_loss: 1.3329\n",
            "Epoch 16/20\n",
            "\u001b[1m19/19\u001b[0m \u001b[32m━━━━━━━━━━━━━━━━━━━━\u001b[0m\u001b[37m\u001b[0m \u001b[1m1s\u001b[0m 21ms/step - accuracy: 0.4800 - loss: 1.1691 - val_accuracy: 0.5833 - val_loss: 1.1663\n",
            "Epoch 17/20\n",
            "\u001b[1m19/19\u001b[0m \u001b[32m━━━━━━━━━━━━━━━━━━━━\u001b[0m\u001b[37m\u001b[0m \u001b[1m17s\u001b[0m 896ms/step - accuracy: 0.4306 - loss: 1.3106 - val_accuracy: 0.4267 - val_loss: 1.3238\n",
            "Epoch 18/20\n",
            "\u001b[1m19/19\u001b[0m \u001b[32m━━━━━━━━━━━━━━━━━━━━\u001b[0m\u001b[37m\u001b[0m \u001b[1m1s\u001b[0m 22ms/step - accuracy: 0.5200 - loss: 1.2806 - val_accuracy: 0.2500 - val_loss: 1.1733\n",
            "Epoch 19/20\n",
            "\u001b[1m19/19\u001b[0m \u001b[32m━━━━━━━━━━━━━━━━━━━━\u001b[0m\u001b[37m\u001b[0m \u001b[1m18s\u001b[0m 920ms/step - accuracy: 0.5111 - loss: 1.2148 - val_accuracy: 0.3267 - val_loss: 1.4131\n",
            "Epoch 20/20\n",
            "\u001b[1m19/19\u001b[0m \u001b[32m━━━━━━━━━━━━━━━━━━━━\u001b[0m\u001b[37m\u001b[0m \u001b[1m1s\u001b[0m 20ms/step - accuracy: 0.3800 - loss: 1.3666 - val_accuracy: 0.2917 - val_loss: 1.7229\n",
            "Modelo:  3\n",
            "Epoch 1/20\n",
            "\u001b[1m19/19\u001b[0m \u001b[32m━━━━━━━━━━━━━━━━━━━━\u001b[0m\u001b[37m\u001b[0m \u001b[1m69s\u001b[0m 4s/step - accuracy: 0.2468 - loss: 2.1587 - val_accuracy: 0.4300 - val_loss: 1.4884\n",
            "Epoch 2/20\n",
            "\u001b[1m19/19\u001b[0m \u001b[32m━━━━━━━━━━━━━━━━━━━━\u001b[0m\u001b[37m\u001b[0m \u001b[1m4s\u001b[0m 77ms/step - accuracy: 0.3600 - loss: 1.5201 - val_accuracy: 0.3750 - val_loss: 1.4807\n",
            "Epoch 3/20\n",
            "\u001b[1m19/19\u001b[0m \u001b[32m━━━━━━━━━━━━━━━━━━━━\u001b[0m\u001b[37m\u001b[0m \u001b[1m66s\u001b[0m 3s/step - accuracy: 0.3609 - loss: 1.5720 - val_accuracy: 0.4667 - val_loss: 1.4217\n",
            "Epoch 4/20\n",
            "\u001b[1m19/19\u001b[0m \u001b[32m━━━━━━━━━━━━━━━━━━━━\u001b[0m\u001b[37m\u001b[0m \u001b[1m4s\u001b[0m 71ms/step - accuracy: 0.2800 - loss: 1.5775 - val_accuracy: 0.4583 - val_loss: 1.5671\n",
            "Epoch 5/20\n",
            "\u001b[1m19/19\u001b[0m \u001b[32m━━━━━━━━━━━━━━━━━━━━\u001b[0m\u001b[37m\u001b[0m \u001b[1m65s\u001b[0m 3s/step - accuracy: 0.3708 - loss: 1.5348 - val_accuracy: 0.4733 - val_loss: 1.3965\n",
            "Epoch 6/20\n",
            "\u001b[1m19/19\u001b[0m \u001b[32m━━━━━━━━━━━━━━━━━━━━\u001b[0m\u001b[37m\u001b[0m \u001b[1m4s\u001b[0m 71ms/step - accuracy: 0.4600 - loss: 1.5573 - val_accuracy: 0.2917 - val_loss: 1.6998\n",
            "Epoch 7/20\n",
            "\u001b[1m19/19\u001b[0m \u001b[32m━━━━━━━━━━━━━━━━━━━━\u001b[0m\u001b[37m\u001b[0m \u001b[1m69s\u001b[0m 4s/step - accuracy: 0.3508 - loss: 1.5329 - val_accuracy: 0.4700 - val_loss: 1.3761\n",
            "Epoch 8/20\n",
            "\u001b[1m19/19\u001b[0m \u001b[32m━━━━━━━━━━━━━━━━━━━━\u001b[0m\u001b[37m\u001b[0m \u001b[1m4s\u001b[0m 86ms/step - accuracy: 0.4000 - loss: 1.5577 - val_accuracy: 0.3750 - val_loss: 1.8689\n",
            "Epoch 9/20\n",
            "\u001b[1m19/19\u001b[0m \u001b[32m━━━━━━━━━━━━━━━━━━━━\u001b[0m\u001b[37m\u001b[0m \u001b[1m68s\u001b[0m 4s/step - accuracy: 0.3683 - loss: 1.5289 - val_accuracy: 0.4667 - val_loss: 1.3953\n",
            "Epoch 10/20\n",
            "\u001b[1m19/19\u001b[0m \u001b[32m━━━━━━━━━━━━━━━━━━━━\u001b[0m\u001b[37m\u001b[0m \u001b[1m4s\u001b[0m 81ms/step - accuracy: 0.4000 - loss: 1.5895 - val_accuracy: 0.4583 - val_loss: 1.4285\n",
            "Epoch 11/20\n",
            "\u001b[1m19/19\u001b[0m \u001b[32m━━━━━━━━━━━━━━━━━━━━\u001b[0m\u001b[37m\u001b[0m \u001b[1m67s\u001b[0m 4s/step - accuracy: 0.4065 - loss: 1.4989 - val_accuracy: 0.4700 - val_loss: 1.3780\n",
            "Epoch 12/20\n",
            "\u001b[1m19/19\u001b[0m \u001b[32m━━━━━━━━━━━━━━━━━━━━\u001b[0m\u001b[37m\u001b[0m \u001b[1m4s\u001b[0m 83ms/step - accuracy: 0.4200 - loss: 1.3080 - val_accuracy: 0.4167 - val_loss: 1.3782\n",
            "Epoch 13/20\n",
            "\u001b[1m19/19\u001b[0m \u001b[32m━━━━━━━━━━━━━━━━━━━━\u001b[0m\u001b[37m\u001b[0m \u001b[1m69s\u001b[0m 4s/step - accuracy: 0.3543 - loss: 1.4617 - val_accuracy: 0.4567 - val_loss: 1.3798\n",
            "Epoch 14/20\n",
            "\u001b[1m19/19\u001b[0m \u001b[32m━━━━━━━━━━━━━━━━━━━━\u001b[0m\u001b[37m\u001b[0m \u001b[1m4s\u001b[0m 76ms/step - accuracy: 0.4200 - loss: 1.3732 - val_accuracy: 0.3750 - val_loss: 1.3472\n",
            "Epoch 15/20\n",
            "\u001b[1m19/19\u001b[0m \u001b[32m━━━━━━━━━━━━━━━━━━━━\u001b[0m\u001b[37m\u001b[0m \u001b[1m67s\u001b[0m 4s/step - accuracy: 0.3868 - loss: 1.4787 - val_accuracy: 0.4700 - val_loss: 1.3103\n",
            "Epoch 16/20\n",
            "\u001b[1m19/19\u001b[0m \u001b[32m━━━━━━━━━━━━━━━━━━━━\u001b[0m\u001b[37m\u001b[0m \u001b[1m4s\u001b[0m 72ms/step - accuracy: 0.3400 - loss: 1.5902 - val_accuracy: 0.4167 - val_loss: 1.7231\n",
            "Epoch 17/20\n",
            "\u001b[1m19/19\u001b[0m \u001b[32m━━━━━━━━━━━━━━━━━━━━\u001b[0m\u001b[37m\u001b[0m \u001b[1m66s\u001b[0m 3s/step - accuracy: 0.3632 - loss: 1.4899 - val_accuracy: 0.4467 - val_loss: 1.3261\n",
            "Epoch 18/20\n",
            "\u001b[1m19/19\u001b[0m \u001b[32m━━━━━━━━━━━━━━━━━━━━\u001b[0m\u001b[37m\u001b[0m \u001b[1m4s\u001b[0m 72ms/step - accuracy: 0.3600 - loss: 1.5070 - val_accuracy: 0.5417 - val_loss: 1.4002\n",
            "Epoch 19/20\n",
            "\u001b[1m19/19\u001b[0m \u001b[32m━━━━━━━━━━━━━━━━━━━━\u001b[0m\u001b[37m\u001b[0m \u001b[1m66s\u001b[0m 4s/step - accuracy: 0.3995 - loss: 1.4111 - val_accuracy: 0.4667 - val_loss: 1.3259\n",
            "Epoch 20/20\n",
            "\u001b[1m19/19\u001b[0m \u001b[32m━━━━━━━━━━━━━━━━━━━━\u001b[0m\u001b[37m\u001b[0m \u001b[1m4s\u001b[0m 74ms/step - accuracy: 0.4800 - loss: 1.2376 - val_accuracy: 0.4167 - val_loss: 1.3215\n",
            "Modelo:  4\n",
            "Epoch 1/20\n",
            "\u001b[1m19/19\u001b[0m \u001b[32m━━━━━━━━━━━━━━━━━━━━\u001b[0m\u001b[37m\u001b[0m \u001b[1m37s\u001b[0m 2s/step - accuracy: 0.2517 - loss: 2.2638 - val_accuracy: 0.4500 - val_loss: 1.4961\n",
            "Epoch 2/20\n",
            "\u001b[1m19/19\u001b[0m \u001b[32m━━━━━━━━━━━━━━━━━━━━\u001b[0m\u001b[37m\u001b[0m \u001b[1m2s\u001b[0m 45ms/step - accuracy: 0.2400 - loss: 2.0004 - val_accuracy: 0.6667 - val_loss: 1.0964\n",
            "Epoch 3/20\n",
            "\u001b[1m19/19\u001b[0m \u001b[32m━━━━━━━━━━━━━━━━━━━━\u001b[0m\u001b[37m\u001b[0m \u001b[1m30s\u001b[0m 2s/step - accuracy: 0.3575 - loss: 1.6475 - val_accuracy: 0.4567 - val_loss: 1.4324\n",
            "Epoch 4/20\n",
            "\u001b[1m19/19\u001b[0m \u001b[32m━━━━━━━━━━━━━━━━━━━━\u001b[0m\u001b[37m\u001b[0m \u001b[1m2s\u001b[0m 34ms/step - accuracy: 0.4000 - loss: 1.5384 - val_accuracy: 0.5833 - val_loss: 1.4265\n",
            "Epoch 5/20\n",
            "\u001b[1m19/19\u001b[0m \u001b[32m━━━━━━━━━━━━━━━━━━━━\u001b[0m\u001b[37m\u001b[0m \u001b[1m31s\u001b[0m 2s/step - accuracy: 0.3527 - loss: 1.5883 - val_accuracy: 0.4167 - val_loss: 1.4389\n",
            "Epoch 6/20\n",
            "\u001b[1m19/19\u001b[0m \u001b[32m━━━━━━━━━━━━━━━━━━━━\u001b[0m\u001b[37m\u001b[0m \u001b[1m2s\u001b[0m 36ms/step - accuracy: 0.3600 - loss: 1.5532 - val_accuracy: 0.5000 - val_loss: 1.4829\n",
            "Epoch 7/20\n",
            "\u001b[1m19/19\u001b[0m \u001b[32m━━━━━━━━━━━━━━━━━━━━\u001b[0m\u001b[37m\u001b[0m \u001b[1m32s\u001b[0m 2s/step - accuracy: 0.3884 - loss: 1.5455 - val_accuracy: 0.4267 - val_loss: 1.4283\n",
            "Epoch 8/20\n",
            "\u001b[1m19/19\u001b[0m \u001b[32m━━━━━━━━━━━━━━━━━━━━\u001b[0m\u001b[37m\u001b[0m \u001b[1m2s\u001b[0m 34ms/step - accuracy: 0.4400 - loss: 1.4207 - val_accuracy: 0.3750 - val_loss: 1.4052\n",
            "Epoch 9/20\n",
            "\u001b[1m19/19\u001b[0m \u001b[32m━━━━━━━━━━━━━━━━━━━━\u001b[0m\u001b[37m\u001b[0m \u001b[1m31s\u001b[0m 2s/step - accuracy: 0.3781 - loss: 1.5042 - val_accuracy: 0.4700 - val_loss: 1.4014\n",
            "Epoch 10/20\n",
            "\u001b[1m19/19\u001b[0m \u001b[32m━━━━━━━━━━━━━━━━━━━━\u001b[0m\u001b[37m\u001b[0m \u001b[1m2s\u001b[0m 35ms/step - accuracy: 0.3600 - loss: 1.4690 - val_accuracy: 0.5000 - val_loss: 1.3503\n",
            "Epoch 11/20\n",
            "\u001b[1m19/19\u001b[0m \u001b[32m━━━━━━━━━━━━━━━━━━━━\u001b[0m\u001b[37m\u001b[0m \u001b[1m31s\u001b[0m 2s/step - accuracy: 0.3962 - loss: 1.4886 - val_accuracy: 0.4800 - val_loss: 1.3587\n",
            "Epoch 12/20\n",
            "\u001b[1m19/19\u001b[0m \u001b[32m━━━━━━━━━━━━━━━━━━━━\u001b[0m\u001b[37m\u001b[0m \u001b[1m2s\u001b[0m 34ms/step - accuracy: 0.4000 - loss: 1.5692 - val_accuracy: 0.4583 - val_loss: 1.4430\n",
            "Epoch 13/20\n",
            "\u001b[1m19/19\u001b[0m \u001b[32m━━━━━━━━━━━━━━━━━━━━\u001b[0m\u001b[37m\u001b[0m \u001b[1m30s\u001b[0m 2s/step - accuracy: 0.3418 - loss: 1.5056 - val_accuracy: 0.4800 - val_loss: 1.3885\n",
            "Epoch 14/20\n",
            "\u001b[1m19/19\u001b[0m \u001b[32m━━━━━━━━━━━━━━━━━━━━\u001b[0m\u001b[37m\u001b[0m \u001b[1m2s\u001b[0m 33ms/step - accuracy: 0.4600 - loss: 1.5990 - val_accuracy: 0.4583 - val_loss: 1.2697\n",
            "Epoch 15/20\n",
            "\u001b[1m19/19\u001b[0m \u001b[32m━━━━━━━━━━━━━━━━━━━━\u001b[0m\u001b[37m\u001b[0m \u001b[1m30s\u001b[0m 2s/step - accuracy: 0.3893 - loss: 1.4419 - val_accuracy: 0.4833 - val_loss: 1.3353\n",
            "Epoch 16/20\n",
            "\u001b[1m19/19\u001b[0m \u001b[32m━━━━━━━━━━━━━━━━━━━━\u001b[0m\u001b[37m\u001b[0m \u001b[1m2s\u001b[0m 33ms/step - accuracy: 0.2600 - loss: 1.5372 - val_accuracy: 0.5417 - val_loss: 1.2544\n",
            "Epoch 17/20\n",
            "\u001b[1m19/19\u001b[0m \u001b[32m━━━━━━━━━━━━━━━━━━━━\u001b[0m\u001b[37m\u001b[0m \u001b[1m30s\u001b[0m 2s/step - accuracy: 0.4159 - loss: 1.4608 - val_accuracy: 0.4900 - val_loss: 1.3148\n",
            "Epoch 18/20\n",
            "\u001b[1m19/19\u001b[0m \u001b[32m━━━━━━━━━━━━━━━━━━━━\u001b[0m\u001b[37m\u001b[0m \u001b[1m2s\u001b[0m 34ms/step - accuracy: 0.4400 - loss: 1.3812 - val_accuracy: 0.3750 - val_loss: 1.3790\n",
            "Epoch 19/20\n",
            "\u001b[1m19/19\u001b[0m \u001b[32m━━━━━━━━━━━━━━━━━━━━\u001b[0m\u001b[37m\u001b[0m \u001b[1m30s\u001b[0m 2s/step - accuracy: 0.3941 - loss: 1.4587 - val_accuracy: 0.4700 - val_loss: 1.3052\n",
            "Epoch 20/20\n",
            "\u001b[1m19/19\u001b[0m \u001b[32m━━━━━━━━━━━━━━━━━━━━\u001b[0m\u001b[37m\u001b[0m \u001b[1m2s\u001b[0m 35ms/step - accuracy: 0.5000 - loss: 1.3766 - val_accuracy: 0.6250 - val_loss: 1.1450\n",
            "Modelo:  5\n",
            "Epoch 1/20\n",
            "\u001b[1m19/19\u001b[0m \u001b[32m━━━━━━━━━━━━━━━━━━━━\u001b[0m\u001b[37m\u001b[0m \u001b[1m46s\u001b[0m 2s/step - accuracy: 0.2788 - loss: 2.0539 - val_accuracy: 0.4633 - val_loss: 1.4267\n",
            "Epoch 2/20\n",
            "\u001b[1m19/19\u001b[0m \u001b[32m━━━━━━━━━━━━━━━━━━━━\u001b[0m\u001b[37m\u001b[0m \u001b[1m2s\u001b[0m 58ms/step - accuracy: 0.2600 - loss: 1.7847 - val_accuracy: 0.4583 - val_loss: 1.2155\n",
            "Epoch 3/20\n",
            "\u001b[1m19/19\u001b[0m \u001b[32m━━━━━━━━━━━━━━━━━━━━\u001b[0m\u001b[37m\u001b[0m \u001b[1m35s\u001b[0m 2s/step - accuracy: 0.3759 - loss: 1.5286 - val_accuracy: 0.2533 - val_loss: 1.4846\n",
            "Epoch 4/20\n",
            "\u001b[1m19/19\u001b[0m \u001b[32m━━━━━━━━━━━━━━━━━━━━\u001b[0m\u001b[37m\u001b[0m \u001b[1m2s\u001b[0m 40ms/step - accuracy: 0.2800 - loss: 1.7533 - val_accuracy: 0.3750 - val_loss: 1.4036\n",
            "Epoch 5/20\n",
            "\u001b[1m19/19\u001b[0m \u001b[32m━━━━━━━━━━━━━━━━━━━━\u001b[0m\u001b[37m\u001b[0m \u001b[1m32s\u001b[0m 2s/step - accuracy: 0.3927 - loss: 1.4935 - val_accuracy: 0.4333 - val_loss: 1.3581\n",
            "Epoch 6/20\n",
            "\u001b[1m19/19\u001b[0m \u001b[32m━━━━━━━━━━━━━━━━━━━━\u001b[0m\u001b[37m\u001b[0m \u001b[1m2s\u001b[0m 36ms/step - accuracy: 0.4000 - loss: 1.4019 - val_accuracy: 0.6250 - val_loss: 1.1303\n",
            "Epoch 7/20\n",
            "\u001b[1m19/19\u001b[0m \u001b[32m━━━━━━━━━━━━━━━━━━━━\u001b[0m\u001b[37m\u001b[0m \u001b[1m33s\u001b[0m 2s/step - accuracy: 0.4051 - loss: 1.4525 - val_accuracy: 0.3967 - val_loss: 1.3570\n",
            "Epoch 8/20\n",
            "\u001b[1m19/19\u001b[0m \u001b[32m━━━━━━━━━━━━━━━━━━━━\u001b[0m\u001b[37m\u001b[0m \u001b[1m2s\u001b[0m 37ms/step - accuracy: 0.3200 - loss: 1.3045 - val_accuracy: 0.3750 - val_loss: 1.3744\n",
            "Epoch 9/20\n",
            "\u001b[1m19/19\u001b[0m \u001b[32m━━━━━━━━━━━━━━━━━━━━\u001b[0m\u001b[37m\u001b[0m \u001b[1m34s\u001b[0m 2s/step - accuracy: 0.4175 - loss: 1.3344 - val_accuracy: 0.4767 - val_loss: 1.3241\n",
            "Epoch 10/20\n",
            "\u001b[1m19/19\u001b[0m \u001b[32m━━━━━━━━━━━━━━━━━━━━\u001b[0m\u001b[37m\u001b[0m \u001b[1m2s\u001b[0m 38ms/step - accuracy: 0.4800 - loss: 1.3993 - val_accuracy: 0.4167 - val_loss: 1.2861\n",
            "Epoch 11/20\n",
            "\u001b[1m19/19\u001b[0m \u001b[32m━━━━━━━━━━━━━━━━━━━━\u001b[0m\u001b[37m\u001b[0m \u001b[1m34s\u001b[0m 2s/step - accuracy: 0.4418 - loss: 1.3617 - val_accuracy: 0.4767 - val_loss: 1.2859\n",
            "Epoch 12/20\n",
            "\u001b[1m19/19\u001b[0m \u001b[32m━━━━━━━━━━━━━━━━━━━━\u001b[0m\u001b[37m\u001b[0m \u001b[1m2s\u001b[0m 36ms/step - accuracy: 0.4200 - loss: 1.2907 - val_accuracy: 0.5417 - val_loss: 1.2348\n",
            "Epoch 13/20\n",
            "\u001b[1m19/19\u001b[0m \u001b[32m━━━━━━━━━━━━━━━━━━━━\u001b[0m\u001b[37m\u001b[0m \u001b[1m34s\u001b[0m 2s/step - accuracy: 0.4053 - loss: 1.3169 - val_accuracy: 0.5033 - val_loss: 1.2396\n",
            "Epoch 14/20\n",
            "\u001b[1m19/19\u001b[0m \u001b[32m━━━━━━━━━━━━━━━━━━━━\u001b[0m\u001b[37m\u001b[0m \u001b[1m2s\u001b[0m 35ms/step - accuracy: 0.3800 - loss: 1.4192 - val_accuracy: 0.4167 - val_loss: 1.5019\n",
            "Epoch 15/20\n",
            "\u001b[1m19/19\u001b[0m \u001b[32m━━━━━━━━━━━━━━━━━━━━\u001b[0m\u001b[37m\u001b[0m \u001b[1m37s\u001b[0m 2s/step - accuracy: 0.4436 - loss: 1.2994 - val_accuracy: 0.4867 - val_loss: 1.2653\n",
            "Epoch 16/20\n",
            "\u001b[1m19/19\u001b[0m \u001b[32m━━━━━━━━━━━━━━━━━━━━\u001b[0m\u001b[37m\u001b[0m \u001b[1m2s\u001b[0m 40ms/step - accuracy: 0.4400 - loss: 1.2590 - val_accuracy: 0.5000 - val_loss: 1.2697\n",
            "Epoch 17/20\n",
            "\u001b[1m19/19\u001b[0m \u001b[32m━━━━━━━━━━━━━━━━━━━━\u001b[0m\u001b[37m\u001b[0m \u001b[1m34s\u001b[0m 2s/step - accuracy: 0.4531 - loss: 1.2705 - val_accuracy: 0.4500 - val_loss: 1.2816\n",
            "Epoch 18/20\n",
            "\u001b[1m19/19\u001b[0m \u001b[32m━━━━━━━━━━━━━━━━━━━━\u001b[0m\u001b[37m\u001b[0m \u001b[1m2s\u001b[0m 38ms/step - accuracy: 0.3600 - loss: 1.3181 - val_accuracy: 0.5000 - val_loss: 1.1859\n",
            "Epoch 19/20\n",
            "\u001b[1m19/19\u001b[0m \u001b[32m━━━━━━━━━━━━━━━━━━━━\u001b[0m\u001b[37m\u001b[0m \u001b[1m34s\u001b[0m 2s/step - accuracy: 0.4492 - loss: 1.2567 - val_accuracy: 0.4733 - val_loss: 1.2613\n",
            "Epoch 20/20\n",
            "\u001b[1m19/19\u001b[0m \u001b[32m━━━━━━━━━━━━━━━━━━━━\u001b[0m\u001b[37m\u001b[0m \u001b[1m2s\u001b[0m 36ms/step - accuracy: 0.4800 - loss: 1.1916 - val_accuracy: 0.5833 - val_loss: 1.0086\n",
            "Modelo:  6\n",
            "Epoch 1/20\n",
            "\u001b[1m19/19\u001b[0m \u001b[32m━━━━━━━━━━━━━━━━━━━━\u001b[0m\u001b[37m\u001b[0m \u001b[1m23s\u001b[0m 806ms/step - accuracy: 0.2435 - loss: 2.2506 - val_accuracy: 0.4667 - val_loss: 1.4953\n",
            "Epoch 2/20\n",
            "\u001b[1m19/19\u001b[0m \u001b[32m━━━━━━━━━━━━━━━━━━━━\u001b[0m\u001b[37m\u001b[0m \u001b[1m1s\u001b[0m 32ms/step - accuracy: 0.4800 - loss: 1.5110 - val_accuracy: 0.4583 - val_loss: 1.5207\n",
            "Epoch 3/20\n",
            "\u001b[1m19/19\u001b[0m \u001b[32m━━━━━━━━━━━━━━━━━━━━\u001b[0m\u001b[37m\u001b[0m \u001b[1m14s\u001b[0m 739ms/step - accuracy: 0.3605 - loss: 1.6311 - val_accuracy: 0.4633 - val_loss: 1.4670\n",
            "Epoch 4/20\n",
            "\u001b[1m19/19\u001b[0m \u001b[32m━━━━━━━━━━━━━━━━━━━━\u001b[0m\u001b[37m\u001b[0m \u001b[1m1s\u001b[0m 16ms/step - accuracy: 0.3571 - loss: 1.7999 - val_accuracy: 0.5000 - val_loss: 1.2309\n",
            "Epoch 5/20\n",
            "\u001b[1m19/19\u001b[0m \u001b[32m━━━━━━━━━━━━━━━━━━━━\u001b[0m\u001b[37m\u001b[0m \u001b[1m14s\u001b[0m 731ms/step - accuracy: 0.3834 - loss: 1.5693 - val_accuracy: 0.4767 - val_loss: 1.4455\n",
            "Epoch 6/20\n",
            "\u001b[1m19/19\u001b[0m \u001b[32m━━━━━━━━━━━━━━━━━━━━\u001b[0m\u001b[37m\u001b[0m \u001b[1m1s\u001b[0m 17ms/step - accuracy: 0.4200 - loss: 1.6665 - val_accuracy: 0.3333 - val_loss: 1.4549\n",
            "Epoch 7/20\n",
            "\u001b[1m19/19\u001b[0m \u001b[32m━━━━━━━━━━━━━━━━━━━━\u001b[0m\u001b[37m\u001b[0m \u001b[1m14s\u001b[0m 724ms/step - accuracy: 0.3874 - loss: 1.5769 - val_accuracy: 0.4633 - val_loss: 1.4462\n",
            "Epoch 8/20\n",
            "\u001b[1m19/19\u001b[0m \u001b[32m━━━━━━━━━━━━━━━━━━━━\u001b[0m\u001b[37m\u001b[0m \u001b[1m1s\u001b[0m 17ms/step - accuracy: 0.3800 - loss: 1.3553 - val_accuracy: 0.5000 - val_loss: 1.2882\n",
            "Epoch 9/20\n",
            "\u001b[1m19/19\u001b[0m \u001b[32m━━━━━━━━━━━━━━━━━━━━\u001b[0m\u001b[37m\u001b[0m \u001b[1m14s\u001b[0m 741ms/step - accuracy: 0.3486 - loss: 1.5616 - val_accuracy: 0.4633 - val_loss: 1.4245\n",
            "Epoch 10/20\n",
            "\u001b[1m19/19\u001b[0m \u001b[32m━━━━━━━━━━━━━━━━━━━━\u001b[0m\u001b[37m\u001b[0m \u001b[1m1s\u001b[0m 17ms/step - accuracy: 0.3214 - loss: 1.4673 - val_accuracy: 0.5000 - val_loss: 1.4515\n",
            "Epoch 11/20\n",
            "\u001b[1m19/19\u001b[0m \u001b[32m━━━━━━━━━━━━━━━━━━━━\u001b[0m\u001b[37m\u001b[0m \u001b[1m14s\u001b[0m 744ms/step - accuracy: 0.3905 - loss: 1.5749 - val_accuracy: 0.4567 - val_loss: 1.4534\n",
            "Epoch 12/20\n",
            "\u001b[1m19/19\u001b[0m \u001b[32m━━━━━━━━━━━━━━━━━━━━\u001b[0m\u001b[37m\u001b[0m \u001b[1m1s\u001b[0m 16ms/step - accuracy: 0.4000 - loss: 1.5636 - val_accuracy: 0.5833 - val_loss: 1.2706\n",
            "Epoch 13/20\n",
            "\u001b[1m19/19\u001b[0m \u001b[32m━━━━━━━━━━━━━━━━━━━━\u001b[0m\u001b[37m\u001b[0m \u001b[1m14s\u001b[0m 705ms/step - accuracy: 0.3903 - loss: 1.5185 - val_accuracy: 0.4667 - val_loss: 1.4571\n",
            "Epoch 14/20\n",
            "\u001b[1m19/19\u001b[0m \u001b[32m━━━━━━━━━━━━━━━━━━━━\u001b[0m\u001b[37m\u001b[0m \u001b[1m1s\u001b[0m 17ms/step - accuracy: 0.3600 - loss: 1.7233 - val_accuracy: 0.4583 - val_loss: 1.3976\n",
            "Epoch 15/20\n",
            "\u001b[1m19/19\u001b[0m \u001b[32m━━━━━━━━━━━━━━━━━━━━\u001b[0m\u001b[37m\u001b[0m \u001b[1m14s\u001b[0m 725ms/step - accuracy: 0.3842 - loss: 1.5339 - val_accuracy: 0.4767 - val_loss: 1.4100\n",
            "Epoch 16/20\n",
            "\u001b[1m19/19\u001b[0m \u001b[32m━━━━━━━━━━━━━━━━━━━━\u001b[0m\u001b[37m\u001b[0m \u001b[1m1s\u001b[0m 16ms/step - accuracy: 0.3600 - loss: 1.4397 - val_accuracy: 0.3333 - val_loss: 1.6933\n",
            "Epoch 17/20\n",
            "\u001b[1m19/19\u001b[0m \u001b[32m━━━━━━━━━━━━━━━━━━━━\u001b[0m\u001b[37m\u001b[0m \u001b[1m14s\u001b[0m 714ms/step - accuracy: 0.3994 - loss: 1.5171 - val_accuracy: 0.4767 - val_loss: 1.4369\n",
            "Epoch 18/20\n",
            "\u001b[1m19/19\u001b[0m \u001b[32m━━━━━━━━━━━━━━━━━━━━\u001b[0m\u001b[37m\u001b[0m \u001b[1m1s\u001b[0m 16ms/step - accuracy: 0.4200 - loss: 1.5790 - val_accuracy: 0.3333 - val_loss: 1.5719\n",
            "Epoch 19/20\n",
            "\u001b[1m19/19\u001b[0m \u001b[32m━━━━━━━━━━━━━━━━━━━━\u001b[0m\u001b[37m\u001b[0m \u001b[1m14s\u001b[0m 723ms/step - accuracy: 0.4060 - loss: 1.5355 - val_accuracy: 0.4700 - val_loss: 1.4352\n",
            "Epoch 20/20\n",
            "\u001b[1m19/19\u001b[0m \u001b[32m━━━━━━━━━━━━━━━━━━━━\u001b[0m\u001b[37m\u001b[0m \u001b[1m1s\u001b[0m 15ms/step - accuracy: 0.4000 - loss: 1.5737 - val_accuracy: 0.4167 - val_loss: 1.5089\n"
          ]
        }
      ],
      "source": [
        "histories = []\n",
        "for i, base_model in enumerate(base_models, start=1):\n",
        "    print (\"Modelo: \",i)\n",
        "    model = add_custom_layers(base_model)\n",
        "\n",
        "    # Congelar capas base\n",
        "    for layer in base_model.layers:\n",
        "        layer.trainable = False\n",
        "    for layer in model.layers[-5:]:\n",
        "        layer.trainable = True\n",
        "\n",
        "    model.compile(optimizer='Adam', loss='categorical_crossentropy', metrics=['accuracy'])\n",
        "\n",
        "    step_size_train = train_generator.n // train_generator.batch_size\n",
        "    step_size_val = val_generator.n // val_generator.batch_size\n",
        "\n",
        "    history = model.fit(train_generator, validation_data=val_generator,\n",
        "                        steps_per_epoch=step_size_train, validation_steps=step_size_val,\n",
        "                        epochs=20)\n",
        "    \n",
        "    histories.append(history)"
      ]
    },
    {
      "cell_type": "markdown",
      "metadata": {},
      "source": [
        "# Conclusiones"
      ]
    },
    {
      "cell_type": "markdown",
      "metadata": {},
      "source": [
        "* La evaluacion de diferentes modelos pre-entrenados tienen desempenos similares, al igual que el entregable anterior, la precision y perdida de los datos de validacion son inadecuados, lo que llega a concluir que se requiere una mejor captura de datos para lograr un mejor desempeno en el entrenamiento del modelo."
      ]
    },
    {
      "cell_type": "code",
      "execution_count": null,
      "metadata": {},
      "outputs": [],
      "source": [
        "\n",
        "\n",
        "\n"
      ]
    }
  ],
  "metadata": {
    "accelerator": "GPU",
    "colab": {
      "provenance": []
    },
    "kernelspec": {
      "display_name": "Python 3",
      "name": "python3"
    },
    "language_info": {
      "codemirror_mode": {
        "name": "ipython",
        "version": 3
      },
      "file_extension": ".py",
      "mimetype": "text/x-python",
      "name": "python",
      "nbconvert_exporter": "python",
      "pygments_lexer": "ipython3",
      "version": "3.11.9"
    }
  },
  "nbformat": 4,
  "nbformat_minor": 0
}
