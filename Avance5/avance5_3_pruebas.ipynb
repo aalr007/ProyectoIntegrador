{
 "cells": [
  {
   "cell_type": "markdown",
   "metadata": {},
   "source": [
    "# <center> ***Proyecto Integrador*** </center>\n",
    "## <center> ***Avance 5*** </center>\n",
    "### Profesores: Dra. Grettel Barceló, Dr. Luis Enrique Falcón. \n",
    "### Tutor: Dr Carlos Villaseñor\n",
    "### Alumnos:\n",
    "\n",
    "* Aurelio Antonio Lozano Rábago      A01081266\n",
    "\n",
    "\n",
    "#### <p style='text-align: right;'> 2 de Junio del 2024 </p>"
   ]
  },
  {
   "cell_type": "code",
   "execution_count": 17,
   "metadata": {},
   "outputs": [],
   "source": [
    "import pandas as np\n",
    "import numpy as np\n",
    "import os\n",
    "import keras\n",
    "import matplotlib.pyplot as plt\n",
    "from tensorflow.keras.layers import Dense, GlobalAveragePooling2D\n",
    "from tensorflow.keras.applications import DenseNet121\n",
    "from tensorflow.keras.preprocessing import image\n",
    "from tensorflow.keras.applications.mobilenet import preprocess_input\n",
    "from tensorflow.keras.preprocessing.image import ImageDataGenerator\n",
    "from tensorflow.keras.models import Model\n",
    "from tensorflow.keras.optimizers import Adam\n",
    "from tensorflow.keras.layers import Dropout\n",
    "import torch\n",
    "import tensorflow as tf\n",
    "from sklearn.ensemble import BaggingClassifier, AdaBoostClassifier, RandomForestClassifier\n",
    "from sklearn.linear_model import LogisticRegression\n",
    "from sklearn.svm import SVC\n",
    "from sklearn.ensemble import StackingClassifier, VotingClassifier\n",
    "from sklearn.metrics import confusion_matrix, accuracy_score, precision_score, recall_score, f1_score, classification_report\n",
    "from sklearn.model_selection import train_test_split\n",
    "import pandas as pd"
   ]
  },
  {
   "cell_type": "code",
   "execution_count": 18,
   "metadata": {},
   "outputs": [
    {
     "name": "stdout",
     "output_type": "stream",
     "text": [
      "cuda\n"
     ]
    }
   ],
   "source": [
    "device = torch.device(\"cuda\" if torch.cuda.is_available() else \"cpu\")\n",
    "print(device)"
   ]
  },
  {
   "cell_type": "code",
   "execution_count": 19,
   "metadata": {},
   "outputs": [
    {
     "data": {
      "text/plain": [
       "\"\\ndef base_model():\\n    model = tf.keras.models.Sequential()\\n    model.add(tf.keras.layers.Convolution2D(3, (5, 5), strides=(1, 1), input_shape=(224, 224, 3), activation='relu'))\\n    model.add(tf.keras.layers.Convolution2D(3, (5, 5), strides=(1, 1), activation='relu',kernel_regularizer=regularizers.l2(0.001)))\\n    model.add(Dropout(0.25))\\n    model.add(tf.keras.layers.Convolution2D(24, (5, 5), strides=(1, 1), activation='relu'))\\n    model.add(Dropout(0.25))\\n    model.add(tf.keras.layers.Convolution2D(36, (5, 5), strides=(2, 2), activation='relu'))\\n    model.add(Dropout(0.25))\\n    model.add(tf.keras.layers.Convolution2D(48, (3, 3), strides=(2, 2), activation='relu'))\\n    model.add(tf.keras.layers.Convolution2D(64, (3, 3), strides=(2, 2), activation='relu'))\\n    model.add(tf.keras.layers.Convolution2D(64, (3, 3), activation='relu'))\\n    model.add(tf.keras.layers.Flatten())\\n    model.add(tf.keras.layers.Dense(1164, activation='relu'))\\n    model.add(Dropout(0.25))\\n    model.add(tf.keras.layers.Dense(100, activation='relu'))\\n    model.add(Dropout(0.25))\\n    model.add(tf.keras.layers.Dense(50, activation='relu'))\\n    model.add(Dropout(0.25))\\n    model.add(tf.keras.layers.Dense(10, activation='relu',kernel_regularizer=regularizers.l2(0.001)))\\n    model.add(Dropout(0.25))\\n    model.add(tf.keras.layers.Dense(3, activation='softmax'))\\n    optimizer = tf.keras.optimizers.Adam(learning_rate=0.0001)\\n    model.compile(loss='mse', optimizer=optimizer)\\n    return model\\n\""
      ]
     },
     "execution_count": 19,
     "metadata": {},
     "output_type": "execute_result"
    }
   ],
   "source": [
    "'''\n",
    "def base_model():\n",
    "    model = tf.keras.models.Sequential()\n",
    "    model.add(tf.keras.layers.Convolution2D(3, (5, 5), strides=(1, 1), input_shape=(224, 224, 3), activation='relu'))\n",
    "    model.add(tf.keras.layers.Convolution2D(3, (5, 5), strides=(1, 1), activation='relu',kernel_regularizer=regularizers.l2(0.001)))\n",
    "    model.add(Dropout(0.25))\n",
    "    model.add(tf.keras.layers.Convolution2D(24, (5, 5), strides=(1, 1), activation='relu'))\n",
    "    model.add(Dropout(0.25))\n",
    "    model.add(tf.keras.layers.Convolution2D(36, (5, 5), strides=(2, 2), activation='relu'))\n",
    "    model.add(Dropout(0.25))\n",
    "    model.add(tf.keras.layers.Convolution2D(48, (3, 3), strides=(2, 2), activation='relu'))\n",
    "    model.add(tf.keras.layers.Convolution2D(64, (3, 3), strides=(2, 2), activation='relu'))\n",
    "    model.add(tf.keras.layers.Convolution2D(64, (3, 3), activation='relu'))\n",
    "    model.add(tf.keras.layers.Flatten())\n",
    "    model.add(tf.keras.layers.Dense(1164, activation='relu'))\n",
    "    model.add(Dropout(0.25))\n",
    "    model.add(tf.keras.layers.Dense(100, activation='relu'))\n",
    "    model.add(Dropout(0.25))\n",
    "    model.add(tf.keras.layers.Dense(50, activation='relu'))\n",
    "    model.add(Dropout(0.25))\n",
    "    model.add(tf.keras.layers.Dense(10, activation='relu',kernel_regularizer=regularizers.l2(0.001)))\n",
    "    model.add(Dropout(0.25))\n",
    "    model.add(tf.keras.layers.Dense(3, activation='softmax'))\n",
    "    optimizer = tf.keras.optimizers.Adam(learning_rate=0.0001)\n",
    "    model.compile(loss='mse', optimizer=optimizer)\n",
    "    return model\n",
    "'''"
   ]
  },
  {
   "cell_type": "code",
   "execution_count": 20,
   "metadata": {},
   "outputs": [],
   "source": [
    "# Definir el modelo base DenseNet121\n",
    "base_model = DenseNet121(weights='imagenet', include_top=False)\n",
    "\n",
    "x = base_model.output\n",
    "x = GlobalAveragePooling2D()(x)\n",
    "x = Dense(256, activation='relu')(x)\n",
    "x = Dropout(0.5)(x)\n",
    "x = Dense(64, activation='relu')(x)\n",
    "preds = Dense(3, activation='softmax')(x)\n",
    "\n",
    "model = Model(inputs=base_model.input, outputs=preds)\n",
    "\n",
    "for layer in model.layers[:-5]:\n",
    "    layer.trainable = False\n",
    "for layer in model.layers[-5:]:\n",
    "    layer.trainable = True"
   ]
  },
  {
   "cell_type": "code",
   "execution_count": 21,
   "metadata": {},
   "outputs": [
    {
     "name": "stdout",
     "output_type": "stream",
     "text": [
      "Found 3002 images belonging to 3 classes.\n"
     ]
    },
    {
     "name": "stdout",
     "output_type": "stream",
     "text": [
      "Found 823 images belonging to 3 classes.\n"
     ]
    }
   ],
   "source": [
    "train_datagen = ImageDataGenerator(preprocessing_function=preprocess_input)\n",
    "\n",
    "train_generator = train_datagen.flow_from_directory('organized_data/train/',\n",
    "                                                    target_size=(224, 224),\n",
    "                                                    color_mode='rgb',\n",
    "                                                    batch_size=50,\n",
    "                                                    class_mode='categorical',\n",
    "                                                    shuffle=True)\n",
    "\n",
    "val_datagen = ImageDataGenerator(preprocessing_function=preprocess_input)\n",
    "\n",
    "val_generator = val_datagen.flow_from_directory('organized_data/val/',\n",
    "                                                target_size=(224, 224),\n",
    "                                                color_mode='rgb',\n",
    "                                                batch_size=25,\n",
    "                                                class_mode='categorical',\n",
    "                                                shuffle=True)\n"
   ]
  },
  {
   "cell_type": "code",
   "execution_count": 22,
   "metadata": {},
   "outputs": [],
   "source": [
    "model.compile(optimizer='Adam', loss='categorical_crossentropy',\n",
    "              metrics=['accuracy'])"
   ]
  },
  {
   "cell_type": "code",
   "execution_count": 23,
   "metadata": {},
   "outputs": [
    {
     "name": "stdout",
     "output_type": "stream",
     "text": [
      "Epoch 1/25\n"
     ]
    },
    {
     "name": "stderr",
     "output_type": "stream",
     "text": [
      "c:\\Users\\44942\\.conda\\envs\\new_gpu_env\\Lib\\site-packages\\keras\\src\\trainers\\data_adapters\\py_dataset_adapter.py:121: UserWarning: Your `PyDataset` class should call `super().__init__(**kwargs)` in its constructor. `**kwargs` can include `workers`, `use_multiprocessing`, `max_queue_size`. Do not pass these arguments to `fit()`, as they will be ignored.\n",
      "  self._warn_if_super_not_called()\n"
     ]
    },
    {
     "name": "stdout",
     "output_type": "stream",
     "text": [
      "\u001b[1m60/60\u001b[0m \u001b[32m━━━━━━━━━━━━━━━━━━━━\u001b[0m\u001b[37m\u001b[0m \u001b[1m119s\u001b[0m 2s/step - accuracy: 0.4170 - loss: 1.2321 - val_accuracy: 0.7387 - val_loss: 0.8272\n",
      "Epoch 2/25\n",
      "\u001b[1m 1/60\u001b[0m \u001b[37m━━━━━━━━━━━━━━━━━━━━\u001b[0m \u001b[1m1:22\u001b[0m 1s/step - accuracy: 0.5800 - loss: 0.8844"
     ]
    },
    {
     "name": "stderr",
     "output_type": "stream",
     "text": [
      "c:\\Users\\44942\\.conda\\envs\\new_gpu_env\\Lib\\contextlib.py:158: UserWarning: Your input ran out of data; interrupting training. Make sure that your dataset or generator can generate at least `steps_per_epoch * epochs` batches. You may need to use the `.repeat()` function when building your dataset.\n",
      "  self.gen.throw(typ, value, traceback)\n"
     ]
    },
    {
     "name": "stdout",
     "output_type": "stream",
     "text": [
      "\u001b[1m60/60\u001b[0m \u001b[32m━━━━━━━━━━━━━━━━━━━━\u001b[0m\u001b[37m\u001b[0m \u001b[1m2s\u001b[0m 18ms/step - accuracy: 0.5800 - loss: 0.8844 - val_accuracy: 0.6522 - val_loss: 0.7803\n",
      "Epoch 3/25\n",
      "\u001b[1m60/60\u001b[0m \u001b[32m━━━━━━━━━━━━━━━━━━━━\u001b[0m\u001b[37m\u001b[0m \u001b[1m103s\u001b[0m 2s/step - accuracy: 0.6443 - loss: 0.8107 - val_accuracy: 0.8075 - val_loss: 0.5957\n",
      "Epoch 4/25\n",
      "\u001b[1m60/60\u001b[0m \u001b[32m━━━━━━━━━━━━━━━━━━━━\u001b[0m\u001b[37m\u001b[0m \u001b[1m2s\u001b[0m 11ms/step - accuracy: 0.7600 - loss: 0.6887 - val_accuracy: 0.7391 - val_loss: 0.5915\n",
      "Epoch 5/25\n",
      "\u001b[1m60/60\u001b[0m \u001b[32m━━━━━━━━━━━━━━━━━━━━\u001b[0m\u001b[37m\u001b[0m \u001b[1m108s\u001b[0m 2s/step - accuracy: 0.7604 - loss: 0.6284 - val_accuracy: 0.8300 - val_loss: 0.4910\n",
      "Epoch 6/25\n",
      "\u001b[1m60/60\u001b[0m \u001b[32m━━━━━━━━━━━━━━━━━━━━\u001b[0m\u001b[37m\u001b[0m \u001b[1m4s\u001b[0m 23ms/step - accuracy: 0.8200 - loss: 0.4898 - val_accuracy: 0.8261 - val_loss: 0.4262\n",
      "Epoch 7/25\n",
      "\u001b[1m60/60\u001b[0m \u001b[32m━━━━━━━━━━━━━━━━━━━━\u001b[0m\u001b[37m\u001b[0m \u001b[1m179s\u001b[0m 3s/step - accuracy: 0.7834 - loss: 0.5290 - val_accuracy: 0.8462 - val_loss: 0.4525\n",
      "Epoch 8/25\n",
      "\u001b[1m60/60\u001b[0m \u001b[32m━━━━━━━━━━━━━━━━━━━━\u001b[0m\u001b[37m\u001b[0m \u001b[1m4s\u001b[0m 22ms/step - accuracy: 0.7400 - loss: 0.5690 - val_accuracy: 0.8696 - val_loss: 0.3661\n",
      "Epoch 9/25\n",
      "\u001b[1m60/60\u001b[0m \u001b[32m━━━━━━━━━━━━━━━━━━━━\u001b[0m\u001b[37m\u001b[0m \u001b[1m134s\u001b[0m 2s/step - accuracy: 0.8254 - loss: 0.4678 - val_accuracy: 0.8462 - val_loss: 0.4070\n",
      "Epoch 10/25\n",
      "\u001b[1m60/60\u001b[0m \u001b[32m━━━━━━━━━━━━━━━━━━━━\u001b[0m\u001b[37m\u001b[0m \u001b[1m4s\u001b[0m 22ms/step - accuracy: 0.7800 - loss: 0.5479 - val_accuracy: 0.9130 - val_loss: 0.3406\n",
      "Epoch 11/25\n",
      "\u001b[1m60/60\u001b[0m \u001b[32m━━━━━━━━━━━━━━━━━━━━\u001b[0m\u001b[37m\u001b[0m \u001b[1m178s\u001b[0m 3s/step - accuracy: 0.8385 - loss: 0.4306 - val_accuracy: 0.8687 - val_loss: 0.3749\n",
      "Epoch 12/25\n",
      "\u001b[1m60/60\u001b[0m \u001b[32m━━━━━━━━━━━━━━━━━━━━\u001b[0m\u001b[37m\u001b[0m \u001b[1m4s\u001b[0m 22ms/step - accuracy: 0.9000 - loss: 0.3369 - val_accuracy: 0.8261 - val_loss: 0.5545\n",
      "Epoch 13/25\n",
      "\u001b[1m60/60\u001b[0m \u001b[32m━━━━━━━━━━━━━━━━━━━━\u001b[0m\u001b[37m\u001b[0m \u001b[1m179s\u001b[0m 3s/step - accuracy: 0.8639 - loss: 0.3809 - val_accuracy: 0.8737 - val_loss: 0.3474\n",
      "Epoch 14/25\n",
      "\u001b[1m60/60\u001b[0m \u001b[32m━━━━━━━━━━━━━━━━━━━━\u001b[0m\u001b[37m\u001b[0m \u001b[1m3s\u001b[0m 22ms/step - accuracy: 0.9000 - loss: 0.3563 - val_accuracy: 0.8261 - val_loss: 0.3786\n",
      "Epoch 15/25\n",
      "\u001b[1m60/60\u001b[0m \u001b[32m━━━━━━━━━━━━━━━━━━━━\u001b[0m\u001b[37m\u001b[0m \u001b[1m181s\u001b[0m 3s/step - accuracy: 0.8750 - loss: 0.3424 - val_accuracy: 0.8763 - val_loss: 0.3362\n",
      "Epoch 16/25\n",
      "\u001b[1m60/60\u001b[0m \u001b[32m━━━━━━━━━━━━━━━━━━━━\u001b[0m\u001b[37m\u001b[0m \u001b[1m4s\u001b[0m 23ms/step - accuracy: 0.8200 - loss: 0.4038 - val_accuracy: 0.9130 - val_loss: 0.2347\n",
      "Epoch 17/25\n",
      "\u001b[1m60/60\u001b[0m \u001b[32m━━━━━━━━━━━━━━━━━━━━\u001b[0m\u001b[37m\u001b[0m \u001b[1m180s\u001b[0m 3s/step - accuracy: 0.8597 - loss: 0.3429 - val_accuracy: 0.8625 - val_loss: 0.3560\n",
      "Epoch 18/25\n",
      "\u001b[1m60/60\u001b[0m \u001b[32m━━━━━━━━━━━━━━━━━━━━\u001b[0m\u001b[37m\u001b[0m \u001b[1m4s\u001b[0m 23ms/step - accuracy: 0.8200 - loss: 0.4222 - val_accuracy: 0.8696 - val_loss: 0.3936\n",
      "Epoch 19/25\n",
      "\u001b[1m60/60\u001b[0m \u001b[32m━━━━━━━━━━━━━━━━━━━━\u001b[0m\u001b[37m\u001b[0m \u001b[1m182s\u001b[0m 3s/step - accuracy: 0.8817 - loss: 0.3120 - val_accuracy: 0.8850 - val_loss: 0.3025\n",
      "Epoch 20/25\n",
      "\u001b[1m60/60\u001b[0m \u001b[32m━━━━━━━━━━━━━━━━━━━━\u001b[0m\u001b[37m\u001b[0m \u001b[1m4s\u001b[0m 22ms/step - accuracy: 0.9200 - loss: 0.2840 - val_accuracy: 0.7826 - val_loss: 0.5205\n",
      "Epoch 21/25\n",
      "\u001b[1m60/60\u001b[0m \u001b[32m━━━━━━━━━━━━━━━━━━━━\u001b[0m\u001b[37m\u001b[0m \u001b[1m171s\u001b[0m 3s/step - accuracy: 0.8910 - loss: 0.2972 - val_accuracy: 0.8950 - val_loss: 0.2844\n",
      "Epoch 22/25\n",
      "\u001b[1m60/60\u001b[0m \u001b[32m━━━━━━━━━━━━━━━━━━━━\u001b[0m\u001b[37m\u001b[0m \u001b[1m4s\u001b[0m 22ms/step - accuracy: 0.8200 - loss: 0.3999 - val_accuracy: 0.9130 - val_loss: 0.2229\n",
      "Epoch 23/25\n",
      "\u001b[1m60/60\u001b[0m \u001b[32m━━━━━━━━━━━━━━━━━━━━\u001b[0m\u001b[37m\u001b[0m \u001b[1m181s\u001b[0m 3s/step - accuracy: 0.8903 - loss: 0.2976 - val_accuracy: 0.8988 - val_loss: 0.2674\n",
      "Epoch 24/25\n",
      "\u001b[1m60/60\u001b[0m \u001b[32m━━━━━━━━━━━━━━━━━━━━\u001b[0m\u001b[37m\u001b[0m \u001b[1m4s\u001b[0m 23ms/step - accuracy: 0.8000 - loss: 0.3335 - val_accuracy: 0.9565 - val_loss: 0.2484\n",
      "Epoch 25/25\n",
      "\u001b[1m60/60\u001b[0m \u001b[32m━━━━━━━━━━━━━━━━━━━━\u001b[0m\u001b[37m\u001b[0m \u001b[1m418s\u001b[0m 7s/step - accuracy: 0.8924 - loss: 0.3017 - val_accuracy: 0.9050 - val_loss: 0.2827\n"
     ]
    }
   ],
   "source": [
    "step_size_train = train_generator.n // train_generator.batch_size\n",
    "step_size_val = val_generator.n // val_generator.batch_size\n",
    "\n",
    "# Usar fit en lugar de fit_generator\n",
    "history = model.fit(train_generator, validation_data=val_generator,\n",
    "                    steps_per_epoch=step_size_train, validation_steps=step_size_val,\n",
    "                    epochs=25)"
   ]
  },
  {
   "cell_type": "code",
   "execution_count": 24,
   "metadata": {},
   "outputs": [
    {
     "name": "stdout",
     "output_type": "stream",
     "text": [
      "\u001b[1m33/33\u001b[0m \u001b[32m━━━━━━━━━━━━━━━━━━━━\u001b[0m\u001b[37m\u001b[0m \u001b[1m32s\u001b[0m 858ms/step\n"
     ]
    }
   ],
   "source": [
    "# Evaluación del modelo DenseNet121\n",
    "y_pred_dense = model.predict(val_generator)\n",
    "y_pred_dense_classes = np.argmax(y_pred_dense, axis=1)\n",
    "y_true_classes = val_generator.classes"
   ]
  },
  {
   "cell_type": "markdown",
   "metadata": {},
   "source": [
    "Recordatorio de metricas\n",
    "\n",
    "* matriz de confusion: muestra como clasifico cada clase (columna) y el renglon es la clase correcta.\n",
    "\n",
    "* precision:  proporción de verdaderos positivos entre todos los casos que fueron clasificados como positivos (verdaderos positivos/(verdaderos positivos + falsos positivos))\n",
    "\n",
    "* accuracy: proporción de todas las predicciones correctas (tanto verdaderos positivos como verdaderos negativos) entre el total de casos evaluados. (verd positivos + vdd negativos / total de casos)\n",
    "\n",
    "* Recalll: sensibilidad de verdaderos positivos (verdaderos positivos /(vdd positivos + flasos negativos))\n",
    "\n",
    "* combinacion de precision y recall 2 x ((prevision x recall)/(precision + recall))"
   ]
  },
  {
   "cell_type": "code",
   "execution_count": 25,
   "metadata": {},
   "outputs": [],
   "source": [
    "def evaluate_model(y_true, y_pred, model_name):\n",
    "    cm = confusion_matrix(y_true, y_pred)\n",
    "    accuracy = accuracy_score(y_true, y_pred)\n",
    "    precision = precision_score(y_true, y_pred, average='macro')\n",
    "    recall = recall_score(y_true, y_pred, average='macro')\n",
    "    f1 = f1_score(y_true, y_pred, average='macro')\n",
    "    \n",
    "    print(f\"Evaluación del modelo: {model_name}\")\n",
    "    print(f\"Confusion Matrix:\\n{cm}\")\n",
    "    print(f\"Accuracy: {accuracy:.4f}\")\n",
    "    print(f\"Precision: {precision:.4f}\")\n",
    "    print(f\"Recall: {recall:.4f}\")\n",
    "    print(f\"F1 Score: {f1:.4f}\")\n",
    "    print(f\"Classification Report:\\n{classification_report(y_true, y_pred)}\")\n",
    "    \n",
    "    return {'Model': model_name, 'Accuracy': accuracy, 'Precision': precision, 'Recall': recall, 'F1 Score': f1}\n"
   ]
  },
  {
   "cell_type": "code",
   "execution_count": 26,
   "metadata": {},
   "outputs": [
    {
     "name": "stdout",
     "output_type": "stream",
     "text": [
      "Evaluación del modelo: DenseNet121\n",
      "Confusion Matrix:\n",
      "[[ 59  59  88]\n",
      " [ 77  78 117]\n",
      " [ 94 113 138]]\n",
      "Accuracy: 0.3341\n",
      "Precision: 0.3236\n",
      "Recall: 0.3244\n",
      "F1 Score: 0.3236\n",
      "Classification Report:\n",
      "              precision    recall  f1-score   support\n",
      "\n",
      "           0       0.26      0.29      0.27       206\n",
      "           1       0.31      0.29      0.30       272\n",
      "           2       0.40      0.40      0.40       345\n",
      "\n",
      "    accuracy                           0.33       823\n",
      "   macro avg       0.32      0.32      0.32       823\n",
      "weighted avg       0.34      0.33      0.33       823\n",
      "\n"
     ]
    }
   ],
   "source": [
    "\n",
    "# Evaluar el modelo DenseNet121\n",
    "results = []\n",
    "results.append(evaluate_model(y_true_classes, y_pred_dense_classes, \"DenseNet121\"))"
   ]
  },
  {
   "cell_type": "markdown",
   "metadata": {},
   "source": [
    "Matriz de confusion muestra que el modelo esta prediciendo de manera incorrecta para las clases 0 y 1 y para la clase 2, hay una mejora pero aun asi las clasificaciones incorrectas son elevadas, reflejandose en una precision y exactitud bastante baja"
   ]
  },
  {
   "cell_type": "code",
   "execution_count": 27,
   "metadata": {},
   "outputs": [],
   "source": [
    "# Preparar los datos para los modelos de ensamble\n",
    "X_train_ensemble, y_train_ensemble = next(train_generator)\n",
    "X_val_ensemble, y_val_ensemble = next(val_generator)\n",
    "\n",
    "# Convertir las etiquetas a índices de clase\n",
    "y_train_ensemble = np.argmax(y_train_ensemble, axis=1)\n",
    "y_val_ensemble = np.argmax(y_val_ensemble, axis=1)"
   ]
  },
  {
   "cell_type": "markdown",
   "metadata": {},
   "source": [
    "Usando logistic regresion por el siguiente error:\n",
    "\n",
    "---------------------------------------------------------------------------\n",
    "TypeError                                 Traceback (most recent call last)\n",
    "Cell In[1], line 106\n",
    "    103 y_val_ensemble = np.argmax(y_val_ensemble, axis=1)\n",
    "    105 # Modelo homogéneo con Bagging usando DenseNet121\n",
    "--> 106 bagging_model = BaggingClassifier(base_estimator=model, n_estimators=10, random_state=42)\n",
    "    107 bagging_model.fit(X_train_ensemble.reshape(X_train_ensemble.shape[0], -1), y_train_ensemble)\n",
    "    108 y_pred_bagging = bagging_model.predict(X_val_ensemble.reshape(X_val_ensemble.shape[0], -1))\n",
    "\n",
    "TypeError: BaggingClassifier.__init__() got an unexpected keyword argument 'base_estimator'\n"
   ]
  },
  {
   "cell_type": "code",
   "execution_count": 28,
   "metadata": {},
   "outputs": [
    {
     "name": "stdout",
     "output_type": "stream",
     "text": [
      "Evaluación del modelo: Bagging\n",
      "Confusion Matrix:\n",
      "[[4 0 2]\n",
      " [0 4 5]\n",
      " [2 1 7]]\n",
      "Accuracy: 0.6000\n",
      "Precision: 0.6556\n",
      "Recall: 0.6037\n",
      "F1 Score: 0.6071\n",
      "Classification Report:\n",
      "              precision    recall  f1-score   support\n",
      "\n",
      "           0       0.67      0.67      0.67         6\n",
      "           1       0.80      0.44      0.57         9\n",
      "           2       0.50      0.70      0.58        10\n",
      "\n",
      "    accuracy                           0.60        25\n",
      "   macro avg       0.66      0.60      0.61        25\n",
      "weighted avg       0.65      0.60      0.60        25\n",
      "\n"
     ]
    }
   ],
   "source": [
    "# Modelo homogéneo con Bagging\n",
    "base_model1 = LogisticRegression(max_iter=1000)\n",
    "bagging_model = BaggingClassifier(base_model1, n_estimators=50, random_state=42)\n",
    "bagging_model.fit(X_train_ensemble.reshape(X_train_ensemble.shape[0], -1), y_train_ensemble)\n",
    "y_pred_bagging = bagging_model.predict(X_val_ensemble.reshape(X_val_ensemble.shape[0], -1))\n",
    "results.append(evaluate_model(y_val_ensemble, y_pred_bagging, \"Bagging\"))"
   ]
  },
  {
   "cell_type": "markdown",
   "metadata": {},
   "source": [
    "Debido a los errores, pude comparar el incremento en la mejora del modelo"
   ]
  },
  {
   "cell_type": "code",
   "execution_count": 29,
   "metadata": {},
   "outputs": [
    {
     "name": "stderr",
     "output_type": "stream",
     "text": [
      "c:\\Users\\44942\\.conda\\envs\\new_gpu_env\\Lib\\site-packages\\sklearn\\ensemble\\_weight_boosting.py:527: FutureWarning: The SAMME.R algorithm (the default) is deprecated and will be removed in 1.6. Use the SAMME algorithm to circumvent this warning.\n",
      "  warnings.warn(\n"
     ]
    },
    {
     "name": "stdout",
     "output_type": "stream",
     "text": [
      "Evaluación del modelo: Boosting\n",
      "Confusion Matrix:\n",
      "[[4 0 2]\n",
      " [0 4 5]\n",
      " [2 1 7]]\n",
      "Accuracy: 0.6000\n",
      "Precision: 0.6556\n",
      "Recall: 0.6037\n",
      "F1 Score: 0.6071\n",
      "Classification Report:\n",
      "              precision    recall  f1-score   support\n",
      "\n",
      "           0       0.67      0.67      0.67         6\n",
      "           1       0.80      0.44      0.57         9\n",
      "           2       0.50      0.70      0.58        10\n",
      "\n",
      "    accuracy                           0.60        25\n",
      "   macro avg       0.66      0.60      0.61        25\n",
      "weighted avg       0.65      0.60      0.60        25\n",
      "\n"
     ]
    }
   ],
   "source": [
    "# Modelo homogéneo con Boosting\n",
    "boosting_model = AdaBoostClassifier(base_model1, n_estimators=50, random_state=42)\n",
    "boosting_model.fit(X_train_ensemble.reshape(X_train_ensemble.shape[0], -1), y_train_ensemble)\n",
    "y_pred_boosting = boosting_model.predict(X_val_ensemble.reshape(X_val_ensemble.shape[0], -1))\n",
    "results.append(evaluate_model(y_val_ensemble, y_pred_boosting, \"Boosting\"))"
   ]
  },
  {
   "cell_type": "markdown",
   "metadata": {},
   "source": [
    "Aplicar boosting no mejora el rendimiento del modelo, por lo que el segundo modelo (entiendo el boosting como una secuencia de modelos) no esta logrando mejorar los errores del modelo original"
   ]
  },
  {
   "cell_type": "code",
   "execution_count": 30,
   "metadata": {},
   "outputs": [
    {
     "name": "stdout",
     "output_type": "stream",
     "text": [
      "Evaluación del modelo: Stacking\n",
      "Confusion Matrix:\n",
      "[[4 0 2]\n",
      " [0 6 3]\n",
      " [2 1 7]]\n",
      "Accuracy: 0.6800\n",
      "Precision: 0.7024\n",
      "Recall: 0.6778\n",
      "F1 Score: 0.6843\n",
      "Classification Report:\n",
      "              precision    recall  f1-score   support\n",
      "\n",
      "           0       0.67      0.67      0.67         6\n",
      "           1       0.86      0.67      0.75         9\n",
      "           2       0.58      0.70      0.64        10\n",
      "\n",
      "    accuracy                           0.68        25\n",
      "   macro avg       0.70      0.68      0.68        25\n",
      "weighted avg       0.70      0.68      0.68        25\n",
      "\n"
     ]
    }
   ],
   "source": [
    "# Modelo heterogéneo con Stacking\n",
    "base_model2 = SVC(probability=True)\n",
    "stacking_model = StackingClassifier(estimators=[('lr', base_model1), ('svc', base_model2)], final_estimator=RandomForestClassifier())\n",
    "stacking_model.fit(X_train_ensemble.reshape(X_train_ensemble.shape[0], -1), y_train_ensemble)\n",
    "y_pred_stacking = stacking_model.predict(X_val_ensemble.reshape(X_val_ensemble.shape[0], -1))\n",
    "results.append(evaluate_model(y_val_ensemble, y_pred_stacking, \"Stacking\"))"
   ]
  },
  {
   "cell_type": "markdown",
   "metadata": {},
   "source": [
    "Stacking es el que mejor desempeno tiene de los modelos de ensamble, sin embargo sus resultados no son del todo satisfactorios."
   ]
  },
  {
   "cell_type": "code",
   "execution_count": 31,
   "metadata": {},
   "outputs": [
    {
     "name": "stdout",
     "output_type": "stream",
     "text": [
      "Evaluación del modelo: Blending\n",
      "Confusion Matrix:\n",
      "[[1 3 2]\n",
      " [0 8 1]\n",
      " [2 7 1]]\n",
      "Accuracy: 0.4000\n",
      "Precision: 0.3426\n",
      "Recall: 0.3852\n",
      "F1 Score: 0.3192\n",
      "Classification Report:\n",
      "              precision    recall  f1-score   support\n",
      "\n",
      "           0       0.33      0.17      0.22         6\n",
      "           1       0.44      0.89      0.59         9\n",
      "           2       0.25      0.10      0.14        10\n",
      "\n",
      "    accuracy                           0.40        25\n",
      "   macro avg       0.34      0.39      0.32        25\n",
      "weighted avg       0.34      0.40      0.32        25\n",
      "\n"
     ]
    }
   ],
   "source": [
    "# Modelo homogéneo con Blending\n",
    "X_train_blend, X_val_blend, y_train_blend, y_val_blend = train_test_split(X_train_ensemble.reshape(X_train_ensemble.shape[0], -1), y_train_ensemble, test_size=0.5, random_state=42)\n",
    "base_model1.fit(X_train_blend, y_train_blend)\n",
    "base_model2.fit(X_train_blend, y_train_blend)\n",
    "pred1 = base_model1.predict_proba(X_val_blend)\n",
    "pred2 = base_model2.predict_proba(X_val_blend)\n",
    "blending_train_set = np.hstack((pred1, pred2))\n",
    "blender_model = LogisticRegression(max_iter=1000)\n",
    "blender_model.fit(blending_train_set, y_val_blend)\n",
    "pred1_test = base_model1.predict_proba(X_val_ensemble.reshape(X_val_ensemble.shape[0], -1))\n",
    "pred2_test = base_model2.predict_proba(X_val_ensemble.reshape(X_val_ensemble.shape[0], -1))\n",
    "blending_test_set = np.hstack((pred1_test, pred2_test))\n",
    "y_pred_blending = blender_model.predict(blending_test_set)\n",
    "results.append(evaluate_model(y_val_ensemble, y_pred_blending, \"Blending\"))"
   ]
  },
  {
   "cell_type": "markdown",
   "metadata": {},
   "source": [
    "el blending es el que tiene un desempeno mas pobre, dando accuracy por debajo de la media, lo que seria peor que hacer un volado."
   ]
  },
  {
   "cell_type": "code",
   "execution_count": 32,
   "metadata": {},
   "outputs": [
    {
     "name": "stdout",
     "output_type": "stream",
     "text": [
      "\n",
      "Comparativa de modelos:\n",
      "         Model  Accuracy  Precision    Recall  F1 Score\n",
      "0  DenseNet121  0.334143   0.323618  0.324391  0.323552\n",
      "1      Bagging  0.600000   0.655556  0.603704  0.607143\n",
      "2     Boosting  0.600000   0.655556  0.603704  0.607143\n",
      "3     Stacking  0.680000   0.702381  0.677778  0.684343\n",
      "4     Blending  0.400000   0.342593  0.385185  0.319224\n"
     ]
    },
    {
     "data": {
      "image/png": "[encoded data removed]",
      "text/plain": [
       "<Figure size 1000x600 with 1 Axes>"
      ]
     },
     "metadata": {},
     "output_type": "display_data"
    }
   ],
   "source": [
    "# Crear DataFrame con los resultados\n",
    "results_df = pd.DataFrame(results)\n",
    "\n",
    "# Mostrar la tabla comparativa\n",
    "print(\"\\nComparativa de modelos:\")\n",
    "print(results_df)\n",
    "\n",
    "# Graficar las métricas de rendimiento\n",
    "results_df.set_index('Model', inplace=True)\n",
    "results_df.plot(kind='bar', figsize=(10, 6))\n",
    "plt.title('Comparación de Métricas de Rendimiento entre Modelos')\n",
    "plt.ylabel('Score')\n",
    "plt.xticks(rotation=0)\n",
    "plt.legend(loc='lower right')\n",
    "plt.show()"
   ]
  },
  {
   "cell_type": "markdown",
   "metadata": {},
   "source": [
    "Con la tabla comparativa se puede apreciar el gran incremento en desempeno que un modelo ensamblado (combinacion de modelos para generar un modelo mas robusto) puede generar, donde incluso la peor de la estrategia, duplica el rendimiento del modelo original.\n",
    "\n",
    "Dentro de los modelos ensamblados, la estrategia homogenea obtuvo un mejor desempeno que las heterogeneas. "
   ]
  },
  {
   "cell_type": "markdown",
   "metadata": {},
   "source": []
  }
 ],
 "metadata": {
  "kernelspec": {
   "display_name": "new_gpu_env",
   "language": "python",
   "name": "python3"
  },
  "language_info": {
   "codemirror_mode": {
    "name": "ipython",
    "version": 3
   },
   "file_extension": ".py",
   "mimetype": "text/x-python",
   "name": "python",
   "nbconvert_exporter": "python",
   "pygments_lexer": "ipython3",
   "version": "3.11.9"
  }
 },
 "nbformat": 4,
 "nbformat_minor": 2
}
